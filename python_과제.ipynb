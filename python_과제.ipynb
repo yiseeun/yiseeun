{
  "nbformat": 4,
  "nbformat_minor": 0,
  "metadata": {
    "colab": {
      "provenance": [],
      "authorship_tag": "ABX9TyN658kDPdyPwrzUwlCkbMsR",
      "include_colab_link": true
    },
    "kernelspec": {
      "name": "python3",
      "display_name": "Python 3"
    },
    "language_info": {
      "name": "python"
    }
  },
  "cells": [
    {
      "cell_type": "markdown",
      "metadata": {
        "id": "view-in-github",
        "colab_type": "text"
      },
      "source": [
        "<a href=\"https://colab.research.google.com/github/yiseeun/yiseeun/blob/main/python_%EA%B3%BC%EC%A0%9C.ipynb\" target=\"_parent\"><img src=\"https://colab.research.google.com/assets/colab-badge.svg\" alt=\"Open In Colab\"/></a>"
      ]
    },
    {
      "cell_type": "code",
      "execution_count": null,
      "metadata": {
        "colab": {
          "base_uri": "https://localhost:8080/"
        },
        "id": "M1VXxqVEHqPI",
        "outputId": "68ef9512-38a2-4804-e1f7-fa11556ccb43"
      },
      "outputs": [
        {
          "output_type": "stream",
          "name": "stdout",
          "text": [
            "1\n",
            "hello\n"
          ]
        }
      ],
      "source": [
        "#value\n",
        "print(1)\n",
        "print(\"hello\")"
      ]
    },
    {
      "cell_type": "code",
      "source": [
        "#variable\n",
        "#\"variable = value\" -> assigning value to variable\n",
        "vegetable = \"avocado\""
      ],
      "metadata": {
        "id": "YouJ9Kf9NpaG"
      },
      "execution_count": null,
      "outputs": []
    },
    {
      "cell_type": "code",
      "source": [
        "vegetable"
      ],
      "metadata": {
        "colab": {
          "base_uri": "https://localhost:8080/",
          "height": 36
        },
        "id": "2ieHUmuyN-z5",
        "outputId": "9310fe83-6938-456a-a9e4-e8a801298c87"
      },
      "execution_count": null,
      "outputs": [
        {
          "output_type": "execute_result",
          "data": {
            "text/plain": [
              "'avocado'"
            ],
            "application/vnd.google.colaboratory.intrinsic+json": {
              "type": "string"
            }
          },
          "metadata": {},
          "execution_count": 3
        }
      ]
    },
    {
      "cell_type": "code",
      "source": [
        "#variable character 1\n",
        "#variable can change its value\n",
        "vegetable = \"carrot\""
      ],
      "metadata": {
        "id": "JA6zMuWhODPd"
      },
      "execution_count": null,
      "outputs": []
    },
    {
      "cell_type": "code",
      "source": [
        "vegetable"
      ],
      "metadata": {
        "colab": {
          "base_uri": "https://localhost:8080/",
          "height": 36
        },
        "id": "es6PSdCQORpF",
        "outputId": "cb0aba8a-e313-472d-a4c8-ea756d63a34e"
      },
      "execution_count": null,
      "outputs": [
        {
          "output_type": "execute_result",
          "data": {
            "text/plain": [
              "'carrot'"
            ],
            "application/vnd.google.colaboratory.intrinsic+json": {
              "type": "string"
            }
          },
          "metadata": {},
          "execution_count": 5
        }
      ]
    },
    {
      "cell_type": "code",
      "source": [
        "#variable character 2\n",
        "#value can be assigned to multiple variables\n",
        "decorate = \"carrot\""
      ],
      "metadata": {
        "id": "1lirDOaIPDH7"
      },
      "execution_count": null,
      "outputs": []
    },
    {
      "cell_type": "code",
      "source": [
        "print(vegetable)\n",
        "print(decorate)"
      ],
      "metadata": {
        "colab": {
          "base_uri": "https://localhost:8080/"
        },
        "id": "SAXYiRb8PRlR",
        "outputId": "16de81d0-0083-4278-8b75-c9f0d5a23952"
      },
      "execution_count": null,
      "outputs": [
        {
          "output_type": "stream",
          "name": "stdout",
          "text": [
            "carrot\n",
            "carrot\n"
          ]
        }
      ]
    },
    {
      "cell_type": "code",
      "source": [
        "#function (Later video)\n",
        "def make_sandwich(cheese, bread, vegetable) :\n",
        "  sandwich = bread + cheese + vegetable + bread\n",
        "  return sandwich"
      ],
      "metadata": {
        "id": "enNusL17PXYo"
      },
      "execution_count": null,
      "outputs": []
    },
    {
      "cell_type": "code",
      "source": [
        "#int\n",
        "print(2)"
      ],
      "metadata": {
        "colab": {
          "base_uri": "https://localhost:8080/"
        },
        "id": "9mOWnE3OP52W",
        "outputId": "d7bd6b42-66d9-4c49-bcf3-2b42cf50ecdb"
      },
      "execution_count": null,
      "outputs": [
        {
          "output_type": "stream",
          "name": "stdout",
          "text": [
            "2\n"
          ]
        }
      ]
    },
    {
      "cell_type": "code",
      "source": [
        "#float\n",
        "print(30.3)\n",
        "print(2.0)"
      ],
      "metadata": {
        "colab": {
          "base_uri": "https://localhost:8080/"
        },
        "id": "6pMpHit6QCbD",
        "outputId": "b7e49e63-d48d-48f6-9766-45c97d975df1"
      },
      "execution_count": null,
      "outputs": [
        {
          "output_type": "stream",
          "name": "stdout",
          "text": [
            "30.3\n",
            "2.0\n"
          ]
        }
      ]
    },
    {
      "cell_type": "code",
      "source": [
        "#type()\n",
        "type(30.3)"
      ],
      "metadata": {
        "colab": {
          "base_uri": "https://localhost:8080/"
        },
        "id": "M8RVnaWoQKVk",
        "outputId": "b1a99bae-d292-4566-e036-a2e834efe1b3"
      },
      "execution_count": null,
      "outputs": [
        {
          "output_type": "execute_result",
          "data": {
            "text/plain": [
              "float"
            ]
          },
          "metadata": {},
          "execution_count": 11
        }
      ]
    },
    {
      "cell_type": "code",
      "source": [
        "2+2"
      ],
      "metadata": {
        "colab": {
          "base_uri": "https://localhost:8080/"
        },
        "id": "V3mETmv_Qtr9",
        "outputId": "97c8a9c4-5ed1-4e73-f5d7-385e2f0625b0"
      },
      "execution_count": null,
      "outputs": [
        {
          "output_type": "execute_result",
          "data": {
            "text/plain": [
              "4"
            ]
          },
          "metadata": {},
          "execution_count": 12
        }
      ]
    },
    {
      "cell_type": "code",
      "source": [
        "2*10"
      ],
      "metadata": {
        "colab": {
          "base_uri": "https://localhost:8080/"
        },
        "id": "mSo3ofMyQw8h",
        "outputId": "7d2703ec-59f2-4ee2-8c2f-f1c8376b894f"
      },
      "execution_count": null,
      "outputs": [
        {
          "output_type": "execute_result",
          "data": {
            "text/plain": [
              "20"
            ]
          },
          "metadata": {},
          "execution_count": 13
        }
      ]
    },
    {
      "cell_type": "code",
      "source": [
        "2**10"
      ],
      "metadata": {
        "colab": {
          "base_uri": "https://localhost:8080/"
        },
        "id": "RhkDUzqjQzBe",
        "outputId": "33dec2d3-c06d-488a-d85d-3c7f365ffaf7"
      },
      "execution_count": null,
      "outputs": [
        {
          "output_type": "execute_result",
          "data": {
            "text/plain": [
              "1024"
            ]
          },
          "metadata": {},
          "execution_count": 14
        }
      ]
    },
    {
      "cell_type": "code",
      "source": [
        "#\"/\" -> float\n",
        "10/3"
      ],
      "metadata": {
        "colab": {
          "base_uri": "https://localhost:8080/"
        },
        "id": "0jL6oCWNQ4RP",
        "outputId": "494dee90-eb03-4a2c-d1ce-dd8c9b79a0f1"
      },
      "execution_count": null,
      "outputs": [
        {
          "output_type": "execute_result",
          "data": {
            "text/plain": [
              "3.3333333333333335"
            ]
          },
          "metadata": {},
          "execution_count": 15
        }
      ]
    },
    {
      "cell_type": "code",
      "source": [
        "#\"//\" -> int\n",
        "10//3"
      ],
      "metadata": {
        "colab": {
          "base_uri": "https://localhost:8080/"
        },
        "id": "F97fA4CHRBK8",
        "outputId": "6d354829-3433-4a3c-fba2-04410f9e3358"
      },
      "execution_count": null,
      "outputs": [
        {
          "output_type": "execute_result",
          "data": {
            "text/plain": [
              "3"
            ]
          },
          "metadata": {},
          "execution_count": 16
        }
      ]
    },
    {
      "cell_type": "code",
      "source": [
        "#even or odd?\n",
        "print(10%2)\n",
        "print(11%2)"
      ],
      "metadata": {
        "colab": {
          "base_uri": "https://localhost:8080/"
        },
        "id": "udqxJepoRHa8",
        "outputId": "ea8698ec-fe0e-4f92-8e4d-f928c4c63da2"
      },
      "execution_count": null,
      "outputs": [
        {
          "output_type": "stream",
          "name": "stdout",
          "text": [
            "0\n",
            "1\n"
          ]
        }
      ]
    },
    {
      "cell_type": "code",
      "source": [
        "#quotation (' ') (\" \") (\"\"\" \"\"\")\n",
        "\"Jin\""
      ],
      "metadata": {
        "colab": {
          "base_uri": "https://localhost:8080/",
          "height": 36
        },
        "id": "4S9Wf3USRWh4",
        "outputId": "fc514e45-939d-4434-d7b5-382b9f03c80e"
      },
      "execution_count": null,
      "outputs": [
        {
          "output_type": "execute_result",
          "data": {
            "text/plain": [
              "'Jin'"
            ],
            "application/vnd.google.colaboratory.intrinsic+json": {
              "type": "string"
            }
          },
          "metadata": {},
          "execution_count": 18
        }
      ]
    },
    {
      "cell_type": "code",
      "source": [
        "print(\"Jin\")"
      ],
      "metadata": {
        "colab": {
          "base_uri": "https://localhost:8080/"
        },
        "id": "_LgEEPopRqF9",
        "outputId": "279cb77a-7329-4f74-871d-bd8b53594a3b"
      },
      "execution_count": null,
      "outputs": [
        {
          "output_type": "stream",
          "name": "stdout",
          "text": [
            "Jin\n"
          ]
        }
      ]
    },
    {
      "cell_type": "code",
      "source": [
        "text = \"\"\" This is long.....\n",
        "long text\"\"\"\n",
        "print(text)"
      ],
      "metadata": {
        "colab": {
          "base_uri": "https://localhost:8080/"
        },
        "id": "CfBsRjKCRuAf",
        "outputId": "27efd303-7ec0-48c1-ab3a-15c367637890"
      },
      "execution_count": null,
      "outputs": [
        {
          "output_type": "stream",
          "name": "stdout",
          "text": [
            " This is long.....\n",
            "long text\n"
          ]
        }
      ]
    },
    {
      "cell_type": "code",
      "source": [
        "type(\"Jin\")"
      ],
      "metadata": {
        "colab": {
          "base_uri": "https://localhost:8080/"
        },
        "id": "yX-9nf7IR4G8",
        "outputId": "5416bc48-2c8f-4f62-99cc-b0182e29825b"
      },
      "execution_count": null,
      "outputs": [
        {
          "output_type": "execute_result",
          "data": {
            "text/plain": [
              "str"
            ]
          },
          "metadata": {},
          "execution_count": 21
        }
      ]
    },
    {
      "cell_type": "code",
      "source": [
        "print(\"Subscribe \" + \"Jin Box\" + \"!\")"
      ],
      "metadata": {
        "colab": {
          "base_uri": "https://localhost:8080/"
        },
        "id": "BRUPjVaWR7iX",
        "outputId": "58c339de-5331-4393-afc9-b0ac6e7b9f81"
      },
      "execution_count": null,
      "outputs": [
        {
          "output_type": "stream",
          "name": "stdout",
          "text": [
            "Subscribe Jin Box!\n"
          ]
        }
      ]
    },
    {
      "cell_type": "code",
      "source": [
        "print(\"-\"*10)"
      ],
      "metadata": {
        "colab": {
          "base_uri": "https://localhost:8080/"
        },
        "id": "PREcE707SKcA",
        "outputId": "57908d46-8b1e-4697-b3f8-4e998f600b05"
      },
      "execution_count": null,
      "outputs": [
        {
          "output_type": "stream",
          "name": "stdout",
          "text": [
            "----------\n"
          ]
        }
      ]
    },
    {
      "cell_type": "code",
      "source": [
        "name = \"Jin\""
      ],
      "metadata": {
        "id": "Nu3EqI9wSOU0"
      },
      "execution_count": null,
      "outputs": []
    },
    {
      "cell_type": "code",
      "source": [
        "type(name)"
      ],
      "metadata": {
        "colab": {
          "base_uri": "https://localhost:8080/"
        },
        "id": "VSUQgcCESSrW",
        "outputId": "d8eaf031-5e2b-4864-b07d-c28ebbd72598"
      },
      "execution_count": null,
      "outputs": [
        {
          "output_type": "execute_result",
          "data": {
            "text/plain": [
              "str"
            ]
          },
          "metadata": {},
          "execution_count": 26
        }
      ]
    },
    {
      "cell_type": "code",
      "source": [
        "len(name)"
      ],
      "metadata": {
        "colab": {
          "base_uri": "https://localhost:8080/"
        },
        "id": "LlqO-fECSX5N",
        "outputId": "901439ed-f57c-40ac-b352-24781a8c64cf"
      },
      "execution_count": null,
      "outputs": [
        {
          "output_type": "execute_result",
          "data": {
            "text/plain": [
              "3"
            ]
          },
          "metadata": {},
          "execution_count": 27
        }
      ]
    },
    {
      "cell_type": "code",
      "source": [
        "name[0]"
      ],
      "metadata": {
        "colab": {
          "base_uri": "https://localhost:8080/",
          "height": 36
        },
        "id": "TdRLG3O7SopN",
        "outputId": "f4238290-3b37-43ef-a439-5fdde7c30541"
      },
      "execution_count": null,
      "outputs": [
        {
          "output_type": "execute_result",
          "data": {
            "text/plain": [
              "'J'"
            ],
            "application/vnd.google.colaboratory.intrinsic+json": {
              "type": "string"
            }
          },
          "metadata": {},
          "execution_count": 28
        }
      ]
    },
    {
      "cell_type": "code",
      "source": [
        "name[1]"
      ],
      "metadata": {
        "colab": {
          "base_uri": "https://localhost:8080/",
          "height": 36
        },
        "id": "eHBEt9KlSqzn",
        "outputId": "87698739-949f-4209-c9d9-34b3138d6c47"
      },
      "execution_count": null,
      "outputs": [
        {
          "output_type": "execute_result",
          "data": {
            "text/plain": [
              "'i'"
            ],
            "application/vnd.google.colaboratory.intrinsic+json": {
              "type": "string"
            }
          },
          "metadata": {},
          "execution_count": 29
        }
      ]
    },
    {
      "cell_type": "code",
      "source": [
        "name[2]"
      ],
      "metadata": {
        "colab": {
          "base_uri": "https://localhost:8080/",
          "height": 36
        },
        "id": "mQ8yI_MzStlx",
        "outputId": "95684645-743b-47e6-e5df-8bf739c23efa"
      },
      "execution_count": null,
      "outputs": [
        {
          "output_type": "execute_result",
          "data": {
            "text/plain": [
              "'n'"
            ],
            "application/vnd.google.colaboratory.intrinsic+json": {
              "type": "string"
            }
          },
          "metadata": {},
          "execution_count": 30
        }
      ]
    },
    {
      "cell_type": "code",
      "source": [
        "name[-1]"
      ],
      "metadata": {
        "colab": {
          "base_uri": "https://localhost:8080/",
          "height": 36
        },
        "id": "NMOwZkx8Sv93",
        "outputId": "0c434dc8-482c-43c6-e70b-902b971c5b1d"
      },
      "execution_count": null,
      "outputs": [
        {
          "output_type": "execute_result",
          "data": {
            "text/plain": [
              "'n'"
            ],
            "application/vnd.google.colaboratory.intrinsic+json": {
              "type": "string"
            }
          },
          "metadata": {},
          "execution_count": 31
        }
      ]
    },
    {
      "cell_type": "code",
      "source": [
        "len(name) - 1"
      ],
      "metadata": {
        "colab": {
          "base_uri": "https://localhost:8080/"
        },
        "id": "6To5cKVaS9LA",
        "outputId": "f4bcd9a2-0600-4ee5-ca81-f02471488564"
      },
      "execution_count": null,
      "outputs": [
        {
          "output_type": "execute_result",
          "data": {
            "text/plain": [
              "2"
            ]
          },
          "metadata": {},
          "execution_count": 32
        }
      ]
    },
    {
      "cell_type": "code",
      "source": [
        "#\"[a:b]\"-> a<=x<b\n",
        "name[0:1]"
      ],
      "metadata": {
        "colab": {
          "base_uri": "https://localhost:8080/",
          "height": 36
        },
        "id": "xvotunvhTDKn",
        "outputId": "5889b96c-3324-451c-9529-dcb834c541f9"
      },
      "execution_count": null,
      "outputs": [
        {
          "output_type": "execute_result",
          "data": {
            "text/plain": [
              "'J'"
            ],
            "application/vnd.google.colaboratory.intrinsic+json": {
              "type": "string"
            }
          },
          "metadata": {},
          "execution_count": 33
        }
      ]
    },
    {
      "cell_type": "code",
      "source": [
        "name[0:2]"
      ],
      "metadata": {
        "colab": {
          "base_uri": "https://localhost:8080/",
          "height": 36
        },
        "id": "Oks2MZVJTTt3",
        "outputId": "93bffcc0-7e2c-4f99-c3a6-7c5d213a3174"
      },
      "execution_count": null,
      "outputs": [
        {
          "output_type": "execute_result",
          "data": {
            "text/plain": [
              "'Ji'"
            ],
            "application/vnd.google.colaboratory.intrinsic+json": {
              "type": "string"
            }
          },
          "metadata": {},
          "execution_count": 34
        }
      ]
    },
    {
      "cell_type": "code",
      "source": [
        "name[0:3]"
      ],
      "metadata": {
        "colab": {
          "base_uri": "https://localhost:8080/",
          "height": 36
        },
        "id": "fY1zWpt3TWL7",
        "outputId": "f554a126-932a-49c6-caaa-58b5d9832d2d"
      },
      "execution_count": null,
      "outputs": [
        {
          "output_type": "execute_result",
          "data": {
            "text/plain": [
              "'Jin'"
            ],
            "application/vnd.google.colaboratory.intrinsic+json": {
              "type": "string"
            }
          },
          "metadata": {},
          "execution_count": 35
        }
      ]
    },
    {
      "cell_type": "code",
      "source": [
        "name[:]"
      ],
      "metadata": {
        "colab": {
          "base_uri": "https://localhost:8080/",
          "height": 36
        },
        "id": "_bQgSGkrTWol",
        "outputId": "584ad2e0-e11a-4d2e-a0d1-e1823928487e"
      },
      "execution_count": null,
      "outputs": [
        {
          "output_type": "execute_result",
          "data": {
            "text/plain": [
              "'Jin'"
            ],
            "application/vnd.google.colaboratory.intrinsic+json": {
              "type": "string"
            }
          },
          "metadata": {},
          "execution_count": 36
        }
      ]
    },
    {
      "cell_type": "code",
      "source": [
        "name[1:]"
      ],
      "metadata": {
        "colab": {
          "base_uri": "https://localhost:8080/",
          "height": 36
        },
        "id": "7wd-Ac6YTeKG",
        "outputId": "fb6e4dbc-53ac-44d6-8283-05df7868bfb6"
      },
      "execution_count": null,
      "outputs": [
        {
          "output_type": "execute_result",
          "data": {
            "text/plain": [
              "'in'"
            ],
            "application/vnd.google.colaboratory.intrinsic+json": {
              "type": "string"
            }
          },
          "metadata": {},
          "execution_count": 37
        }
      ]
    },
    {
      "cell_type": "code",
      "source": [
        "name[:2]"
      ],
      "metadata": {
        "colab": {
          "base_uri": "https://localhost:8080/",
          "height": 36
        },
        "id": "wv_4PSUaThdj",
        "outputId": "8eab6346-970e-482e-944f-c9708cc87394"
      },
      "execution_count": null,
      "outputs": [
        {
          "output_type": "execute_result",
          "data": {
            "text/plain": [
              "'Ji'"
            ],
            "application/vnd.google.colaboratory.intrinsic+json": {
              "type": "string"
            }
          },
          "metadata": {},
          "execution_count": 38
        }
      ]
    },
    {
      "cell_type": "code",
      "source": [
        "True"
      ],
      "metadata": {
        "colab": {
          "base_uri": "https://localhost:8080/"
        },
        "id": "6gb3WwWQTkj_",
        "outputId": "67cee252-cc4b-4a06-91aa-327a428cf901"
      },
      "execution_count": null,
      "outputs": [
        {
          "output_type": "execute_result",
          "data": {
            "text/plain": [
              "True"
            ]
          },
          "metadata": {},
          "execution_count": 39
        }
      ]
    },
    {
      "cell_type": "code",
      "source": [
        "False"
      ],
      "metadata": {
        "colab": {
          "base_uri": "https://localhost:8080/"
        },
        "id": "8A7MYL_RTnW8",
        "outputId": "692feaf8-a4a4-4516-b193-2f24fc2b4614"
      },
      "execution_count": null,
      "outputs": [
        {
          "output_type": "execute_result",
          "data": {
            "text/plain": [
              "False"
            ]
          },
          "metadata": {},
          "execution_count": 40
        }
      ]
    },
    {
      "cell_type": "code",
      "source": [
        "1==2"
      ],
      "metadata": {
        "colab": {
          "base_uri": "https://localhost:8080/"
        },
        "id": "7EIzDBnMTp8i",
        "outputId": "e32e2c5e-82b6-4f77-b073-9b96989a59ec"
      },
      "execution_count": null,
      "outputs": [
        {
          "output_type": "execute_result",
          "data": {
            "text/plain": [
              "False"
            ]
          },
          "metadata": {},
          "execution_count": 41
        }
      ]
    },
    {
      "cell_type": "code",
      "source": [
        "1!=1"
      ],
      "metadata": {
        "colab": {
          "base_uri": "https://localhost:8080/"
        },
        "id": "tkWptyxDTtqS",
        "outputId": "8805d478-95fb-46c0-da53-126bd2b4ef87"
      },
      "execution_count": null,
      "outputs": [
        {
          "output_type": "execute_result",
          "data": {
            "text/plain": [
              "False"
            ]
          },
          "metadata": {},
          "execution_count": 42
        }
      ]
    },
    {
      "cell_type": "code",
      "source": [
        "\"Jin\" == \"Jin Box\""
      ],
      "metadata": {
        "colab": {
          "base_uri": "https://localhost:8080/"
        },
        "id": "Y-oisCL-TxIC",
        "outputId": "6939502e-788f-487c-a245-dff6e54f145e"
      },
      "execution_count": null,
      "outputs": [
        {
          "output_type": "execute_result",
          "data": {
            "text/plain": [
              "False"
            ]
          },
          "metadata": {},
          "execution_count": 44
        }
      ]
    },
    {
      "cell_type": "code",
      "source": [
        "x = [\"Jin Box\", True, 10000]\n",
        "type(x)"
      ],
      "metadata": {
        "colab": {
          "base_uri": "https://localhost:8080/"
        },
        "id": "Fn5PE_lJfaxp",
        "outputId": "e3ce52a4-7ada-409d-aaee-0acc07c7e48b"
      },
      "execution_count": null,
      "outputs": [
        {
          "output_type": "execute_result",
          "data": {
            "text/plain": [
              "list"
            ]
          },
          "metadata": {},
          "execution_count": 45
        }
      ]
    },
    {
      "cell_type": "code",
      "source": [
        "x.append([1.,2.,3.])"
      ],
      "metadata": {
        "id": "hLNdCWulfa5v"
      },
      "execution_count": null,
      "outputs": []
    },
    {
      "cell_type": "code",
      "source": [
        "x"
      ],
      "metadata": {
        "colab": {
          "base_uri": "https://localhost:8080/"
        },
        "id": "iZyeKiatqUg8",
        "outputId": "e2a8578f-a3db-4cfc-88fa-77dc803c9b04"
      },
      "execution_count": null,
      "outputs": [
        {
          "output_type": "execute_result",
          "data": {
            "text/plain": [
              "['Jin Box', True, 10000, [1.0, 2.0, 3.0]]"
            ]
          },
          "metadata": {},
          "execution_count": 47
        }
      ]
    },
    {
      "cell_type": "code",
      "source": [
        "x.remove('Jin Box')"
      ],
      "metadata": {
        "id": "LdB_G6eAqY7M"
      },
      "execution_count": null,
      "outputs": []
    },
    {
      "cell_type": "code",
      "source": [
        "x"
      ],
      "metadata": {
        "colab": {
          "base_uri": "https://localhost:8080/"
        },
        "id": "PfbodmAdqc8R",
        "outputId": "0ee4f154-0c40-408e-8291-592afce41d0a"
      },
      "execution_count": null,
      "outputs": [
        {
          "output_type": "execute_result",
          "data": {
            "text/plain": [
              "[True, 10000, [1.0, 2.0, 3.0]]"
            ]
          },
          "metadata": {},
          "execution_count": 50
        }
      ]
    },
    {
      "cell_type": "code",
      "source": [
        "x"
      ],
      "metadata": {
        "colab": {
          "base_uri": "https://localhost:8080/"
        },
        "id": "VR8m2Qe6qnKg",
        "outputId": "16d5d72c-a551-4984-9357-9f16f8fdaca9"
      },
      "execution_count": null,
      "outputs": [
        {
          "output_type": "execute_result",
          "data": {
            "text/plain": [
              "[True, 10000, [1.0, 2.0, 3.0]]"
            ]
          },
          "metadata": {},
          "execution_count": 51
        }
      ]
    },
    {
      "cell_type": "code",
      "source": [
        "x[0]"
      ],
      "metadata": {
        "colab": {
          "base_uri": "https://localhost:8080/"
        },
        "id": "STgzTEHeqp4G",
        "outputId": "f940c4e8-dc4a-4636-c3e4-85b6f055b9d0"
      },
      "execution_count": null,
      "outputs": [
        {
          "output_type": "execute_result",
          "data": {
            "text/plain": [
              "True"
            ]
          },
          "metadata": {},
          "execution_count": 52
        }
      ]
    },
    {
      "cell_type": "code",
      "source": [
        "x[0]=False"
      ],
      "metadata": {
        "id": "KpIJAz_cqtFz"
      },
      "execution_count": null,
      "outputs": []
    },
    {
      "cell_type": "code",
      "source": [
        "x"
      ],
      "metadata": {
        "colab": {
          "base_uri": "https://localhost:8080/"
        },
        "id": "A7tVoqXRqwEL",
        "outputId": "f451dff2-d785-409e-dfc7-93db95bdb960"
      },
      "execution_count": null,
      "outputs": [
        {
          "output_type": "execute_result",
          "data": {
            "text/plain": [
              "[False, 10000, [1.0, 2.0, 3.0]]"
            ]
          },
          "metadata": {},
          "execution_count": 54
        }
      ]
    },
    {
      "cell_type": "code",
      "source": [
        "x={\"Jin\",\"Bill\",\"Elon\",\"Elon\"}\n",
        "x"
      ],
      "metadata": {
        "colab": {
          "base_uri": "https://localhost:8080/"
        },
        "id": "m67y3AIWqy_y",
        "outputId": "e76d8654-2d03-4023-b1dc-d5dd78d8090a"
      },
      "execution_count": null,
      "outputs": [
        {
          "output_type": "execute_result",
          "data": {
            "text/plain": [
              "{'Bill', 'Elon', 'Jin'}"
            ]
          },
          "metadata": {},
          "execution_count": 56
        }
      ]
    },
    {
      "cell_type": "code",
      "source": [
        "x.add(\"Sundar\")\n",
        "x"
      ],
      "metadata": {
        "colab": {
          "base_uri": "https://localhost:8080/"
        },
        "id": "Cqefyb6Bq6aa",
        "outputId": "78b623b9-3adc-41c9-e1ec-357d5f7c54f1"
      },
      "execution_count": null,
      "outputs": [
        {
          "output_type": "execute_result",
          "data": {
            "text/plain": [
              "{'Bill', 'Elon', 'Jin', 'Sundar'}"
            ]
          },
          "metadata": {},
          "execution_count": 58
        }
      ]
    },
    {
      "cell_type": "code",
      "source": [
        "x.remove('Sundar')"
      ],
      "metadata": {
        "id": "It4gKNMorGeg"
      },
      "execution_count": null,
      "outputs": []
    },
    {
      "cell_type": "code",
      "source": [
        "x"
      ],
      "metadata": {
        "colab": {
          "base_uri": "https://localhost:8080/"
        },
        "id": "1T-jJgqLrMm9",
        "outputId": "cf06942a-7951-4c51-a390-363c49a32fd6"
      },
      "execution_count": null,
      "outputs": [
        {
          "output_type": "execute_result",
          "data": {
            "text/plain": [
              "{'Bill', 'Elon', 'Jin'}"
            ]
          },
          "metadata": {},
          "execution_count": 61
        }
      ]
    },
    {
      "cell_type": "code",
      "source": [
        "#set은 데이터 값의 위치를 지정하지 않기 때문에 error가 남\n",
        "x[0]"
      ],
      "metadata": {
        "colab": {
          "base_uri": "https://localhost:8080/",
          "height": 180
        },
        "id": "2BXu3oxWrY8L",
        "outputId": "37e2444a-c06e-47dd-ecbd-38cd55a67b12"
      },
      "execution_count": null,
      "outputs": [
        {
          "output_type": "error",
          "ename": "TypeError",
          "evalue": "ignored",
          "traceback": [
            "\u001b[0;31m---------------------------------------------------------------------------\u001b[0m",
            "\u001b[0;31mTypeError\u001b[0m                                 Traceback (most recent call last)",
            "\u001b[0;32m<ipython-input-62-2f755f117ac9>\u001b[0m in \u001b[0;36m<cell line: 1>\u001b[0;34m()\u001b[0m\n\u001b[0;32m----> 1\u001b[0;31m \u001b[0mx\u001b[0m\u001b[0;34m[\u001b[0m\u001b[0;36m0\u001b[0m\u001b[0;34m]\u001b[0m\u001b[0;34m\u001b[0m\u001b[0;34m\u001b[0m\u001b[0m\n\u001b[0m",
            "\u001b[0;31mTypeError\u001b[0m: 'set' object is not subscriptable"
          ]
        }
      ]
    },
    {
      "cell_type": "code",
      "source": [
        "x=(1,2,3)\n",
        "type(x)"
      ],
      "metadata": {
        "colab": {
          "base_uri": "https://localhost:8080/"
        },
        "id": "IZmxi-9qrxCF",
        "outputId": "b9928868-4568-4106-eafa-880d8df1d3ec"
      },
      "execution_count": null,
      "outputs": [
        {
          "output_type": "execute_result",
          "data": {
            "text/plain": [
              "tuple"
            ]
          },
          "metadata": {},
          "execution_count": 63
        }
      ]
    },
    {
      "cell_type": "code",
      "source": [
        "x=(1)\n",
        "type(x)"
      ],
      "metadata": {
        "colab": {
          "base_uri": "https://localhost:8080/"
        },
        "id": "YvK99XGgr6mJ",
        "outputId": "adc96ea0-74c9-45c7-b484-1a0dc40edb02"
      },
      "execution_count": null,
      "outputs": [
        {
          "output_type": "execute_result",
          "data": {
            "text/plain": [
              "int"
            ]
          },
          "metadata": {},
          "execution_count": 64
        }
      ]
    },
    {
      "cell_type": "code",
      "source": [
        "x=(1,)\n",
        "type(x)"
      ],
      "metadata": {
        "colab": {
          "base_uri": "https://localhost:8080/"
        },
        "id": "rM9U5MvYr_AM",
        "outputId": "30968435-4ade-4df8-b635-cafdfbd4fa52"
      },
      "execution_count": null,
      "outputs": [
        {
          "output_type": "execute_result",
          "data": {
            "text/plain": [
              "tuple"
            ]
          },
          "metadata": {},
          "execution_count": 65
        }
      ]
    },
    {
      "cell_type": "code",
      "source": [
        "x[0]"
      ],
      "metadata": {
        "colab": {
          "base_uri": "https://localhost:8080/"
        },
        "id": "sLdwqWR4sDY8",
        "outputId": "5f4bbdde-3ea1-4723-c0ed-ec07af68540a"
      },
      "execution_count": null,
      "outputs": [
        {
          "output_type": "execute_result",
          "data": {
            "text/plain": [
              "1"
            ]
          },
          "metadata": {},
          "execution_count": 66
        }
      ]
    },
    {
      "cell_type": "code",
      "source": [
        "#tuple은 추가, 삭제, 변경 불가능\n",
        "x[0]=2"
      ],
      "metadata": {
        "colab": {
          "base_uri": "https://localhost:8080/",
          "height": 180
        },
        "id": "BVnhdfoNsG4g",
        "outputId": "e03207d3-c3bc-4858-d0a1-3ea2fc7bb88b"
      },
      "execution_count": null,
      "outputs": [
        {
          "output_type": "error",
          "ename": "TypeError",
          "evalue": "ignored",
          "traceback": [
            "\u001b[0;31m---------------------------------------------------------------------------\u001b[0m",
            "\u001b[0;31mTypeError\u001b[0m                                 Traceback (most recent call last)",
            "\u001b[0;32m<ipython-input-67-a54a06fff06d>\u001b[0m in \u001b[0;36m<cell line: 1>\u001b[0;34m()\u001b[0m\n\u001b[0;32m----> 1\u001b[0;31m \u001b[0mx\u001b[0m\u001b[0;34m[\u001b[0m\u001b[0;36m0\u001b[0m\u001b[0;34m]\u001b[0m\u001b[0;34m=\u001b[0m\u001b[0;36m2\u001b[0m\u001b[0;34m\u001b[0m\u001b[0;34m\u001b[0m\u001b[0m\n\u001b[0m",
            "\u001b[0;31mTypeError\u001b[0m: 'tuple' object does not support item assignment"
          ]
        }
      ]
    },
    {
      "cell_type": "code",
      "source": [
        "x={\"name\":\"Jin\"}\n",
        "type(x)"
      ],
      "metadata": {
        "colab": {
          "base_uri": "https://localhost:8080/"
        },
        "id": "vmJZPpAZsQLG",
        "outputId": "858db49e-dac1-465e-bce1-a2fb2795aee0"
      },
      "execution_count": null,
      "outputs": [
        {
          "output_type": "execute_result",
          "data": {
            "text/plain": [
              "dict"
            ]
          },
          "metadata": {},
          "execution_count": 69
        }
      ]
    },
    {
      "cell_type": "code",
      "source": [
        "x[\"name\"]"
      ],
      "metadata": {
        "colab": {
          "base_uri": "https://localhost:8080/",
          "height": 36
        },
        "id": "tnz04cuysbJc",
        "outputId": "0e026d8b-a1e0-4c21-f22b-00e409d2aee0"
      },
      "execution_count": null,
      "outputs": [
        {
          "output_type": "execute_result",
          "data": {
            "text/plain": [
              "'Jin'"
            ],
            "application/vnd.google.colaboratory.intrinsic+json": {
              "type": "string"
            }
          },
          "metadata": {},
          "execution_count": 70
        }
      ]
    },
    {
      "cell_type": "code",
      "source": [
        "x[\"age\"]=[19,20,25,27,29,32]"
      ],
      "metadata": {
        "id": "K0lKevwQseOD"
      },
      "execution_count": null,
      "outputs": []
    },
    {
      "cell_type": "code",
      "source": [
        "x"
      ],
      "metadata": {
        "colab": {
          "base_uri": "https://localhost:8080/"
        },
        "id": "tzkV-Cn0sn05",
        "outputId": "4dda42f9-a170-4048-9a71-b0e5ac5ffc2c"
      },
      "execution_count": null,
      "outputs": [
        {
          "output_type": "execute_result",
          "data": {
            "text/plain": [
              "{'name': 'Jin', 'age': [19, 20, 25, 27, 29, 32]}"
            ]
          },
          "metadata": {},
          "execution_count": 72
        }
      ]
    },
    {
      "cell_type": "code",
      "source": [
        "del x[\"age\"]"
      ],
      "metadata": {
        "id": "ABGJf8UEsq5A"
      },
      "execution_count": null,
      "outputs": []
    },
    {
      "cell_type": "code",
      "source": [
        "x"
      ],
      "metadata": {
        "colab": {
          "base_uri": "https://localhost:8080/"
        },
        "id": "93_F1GERst50",
        "outputId": "a0c2da44-832f-4b1b-9206-283229054664"
      },
      "execution_count": null,
      "outputs": [
        {
          "output_type": "execute_result",
          "data": {
            "text/plain": [
              "{'name': 'Jin'}"
            ]
          },
          "metadata": {},
          "execution_count": 74
        }
      ]
    },
    {
      "cell_type": "code",
      "source": [
        "x[\"name\"]=[\"Jin\",\"Bill\",\"Elon\"]"
      ],
      "metadata": {
        "id": "lSJDAXp4sv7a"
      },
      "execution_count": null,
      "outputs": []
    },
    {
      "cell_type": "code",
      "source": [
        "x"
      ],
      "metadata": {
        "colab": {
          "base_uri": "https://localhost:8080/"
        },
        "id": "2XZ1oeB5s3xL",
        "outputId": "29273312-4489-40aa-c290-47d9b95bddca"
      },
      "execution_count": null,
      "outputs": [
        {
          "output_type": "execute_result",
          "data": {
            "text/plain": [
              "{'name': ['Jin', 'Bill', 'Elon']}"
            ]
          },
          "metadata": {},
          "execution_count": 77
        }
      ]
    },
    {
      "cell_type": "code",
      "source": [
        "user={\n",
        "    \"name\" : \"Elon\",\n",
        "    \"like\" : True, #좋아요를 눌렀는가?\n",
        "    \"reported\": True #신고 당한 적이 있는가?\n",
        "}"
      ],
      "metadata": {
        "id": "-Mro_aTBtHhX"
      },
      "execution_count": null,
      "outputs": []
    },
    {
      "cell_type": "code",
      "source": [
        "if user[\"like\"]:\n",
        "  print(\"You already liked it!\")#[1]"
      ],
      "metadata": {
        "id": "LLCI7F3nuWcj"
      },
      "execution_count": null,
      "outputs": []
    },
    {
      "cell_type": "code",
      "source": [
        "user[\"like\"]=False"
      ],
      "metadata": {
        "id": "6JuKFyipuOzc"
      },
      "execution_count": null,
      "outputs": []
    },
    {
      "cell_type": "code",
      "source": [
        "if user[\"like\"]:\n",
        "  print(\"You already liked it!\")#[1]\n",
        "elif user[\"reported\"]:\n",
        "  print(\"Reported user cannot click the button.\")#[2]"
      ],
      "metadata": {
        "id": "cvekTAWbu3_D"
      },
      "execution_count": null,
      "outputs": []
    },
    {
      "cell_type": "code",
      "source": [
        "user[\"reported\"]=False"
      ],
      "metadata": {
        "id": "rR9QzYpsvN94"
      },
      "execution_count": null,
      "outputs": []
    },
    {
      "cell_type": "code",
      "source": [
        "if user[\"like\"]:\n",
        "  print(\"You already liked it!\")#[1]\n",
        "elif user[\"reported\"]:\n",
        "  print(\"Reported user cannot click like button.\")#[2]\n",
        "else:\n",
        "  print(\"Increase 1 like\")#[3]"
      ],
      "metadata": {
        "colab": {
          "base_uri": "https://localhost:8080/"
        },
        "id": "-WMCIq4ovmJy",
        "outputId": "d24896eb-3b34-4e20-b0aa-fbf1bd035187"
      },
      "execution_count": null,
      "outputs": [
        {
          "output_type": "stream",
          "name": "stdout",
          "text": [
            "Increase 1 like\n"
          ]
        }
      ]
    },
    {
      "cell_type": "code",
      "source": [
        "user"
      ],
      "metadata": {
        "colab": {
          "base_uri": "https://localhost:8080/"
        },
        "id": "mvynwSpGwRFx",
        "outputId": "bf5f6adb-3d98-4e1b-8ee0-f88d9cb9f928"
      },
      "execution_count": null,
      "outputs": [
        {
          "output_type": "execute_result",
          "data": {
            "text/plain": [
              "{'name': 'Elon', 'like': 0, 'reported': False}"
            ]
          },
          "metadata": {},
          "execution_count": 97
        }
      ]
    },
    {
      "cell_type": "code",
      "source": [
        "user[\"like\"]=0 #해당 동영상에 like를 누른 횟수"
      ],
      "metadata": {
        "id": "ZzboisoPwT9q"
      },
      "execution_count": null,
      "outputs": []
    },
    {
      "cell_type": "code",
      "source": [
        "user[\"like\"]>0"
      ],
      "metadata": {
        "colab": {
          "base_uri": "https://localhost:8080/"
        },
        "id": "YhViOQCkw5Jk",
        "outputId": "865bd22b-ca55-4703-dbd5-f3048f5f09ad"
      },
      "execution_count": null,
      "outputs": [
        {
          "output_type": "execute_result",
          "data": {
            "text/plain": [
              "False"
            ]
          },
          "metadata": {},
          "execution_count": 98
        }
      ]
    },
    {
      "cell_type": "code",
      "source": [
        "if user[\"like\"]>0:\n",
        "  print(\"You already liked it!\")#[1]\n",
        "elif user[\"reported\"]:\n",
        "  print(\"Reported user cannot click like button.\")#[2]\n",
        "else:\n",
        "  print(\"Increase 1 like\")#[3]"
      ],
      "metadata": {
        "colab": {
          "base_uri": "https://localhost:8080/"
        },
        "id": "KVwM5KkZw_qW",
        "outputId": "a6d6fa21-d97c-4dc1-f936-c7f4f2411dff"
      },
      "execution_count": null,
      "outputs": [
        {
          "output_type": "stream",
          "name": "stdout",
          "text": [
            "Increase 1 like\n"
          ]
        }
      ]
    },
    {
      "cell_type": "code",
      "source": [
        "def count_likes(user):\n",
        "  if user[\"like\"]>0:\n",
        "    print(\"You already liked it!\")#[1]\n",
        "  elif user[\"reported\"]:\n",
        "    print(\"Reported user cannot click like button.\")#[2]\n",
        "  else:\n",
        "    print(\"Increase 1 like\")#[3]\n",
        "    #user[\"like\"]=1\n",
        "    user[\"like\"]=user[\"like\"]+1\n",
        "\n",
        "  return user"
      ],
      "metadata": {
        "id": "9NXNNABLxffu"
      },
      "execution_count": null,
      "outputs": []
    },
    {
      "cell_type": "code",
      "source": [
        "user"
      ],
      "metadata": {
        "colab": {
          "base_uri": "https://localhost:8080/"
        },
        "id": "2Y6NtdDiyAlL",
        "outputId": "4dd3c343-ac19-4207-d25d-5e92849a6c6a"
      },
      "execution_count": null,
      "outputs": [
        {
          "output_type": "execute_result",
          "data": {
            "text/plain": [
              "{'name': 'Elon', 'like': 0, 'reported': False}"
            ]
          },
          "metadata": {},
          "execution_count": 104
        }
      ]
    },
    {
      "cell_type": "code",
      "source": [
        "user=count_likes(user)"
      ],
      "metadata": {
        "colab": {
          "base_uri": "https://localhost:8080/"
        },
        "id": "hvxTJ3U3yCjf",
        "outputId": "b45adc80-e741-4766-a0c9-f385fd344833"
      },
      "execution_count": null,
      "outputs": [
        {
          "output_type": "stream",
          "name": "stdout",
          "text": [
            "Increase 1 like\n"
          ]
        }
      ]
    },
    {
      "cell_type": "code",
      "source": [
        "user"
      ],
      "metadata": {
        "colab": {
          "base_uri": "https://localhost:8080/"
        },
        "id": "KHLFCLcvyL9E",
        "outputId": "5caa69fa-7b59-4138-f2c5-94e917332c3b"
      },
      "execution_count": null,
      "outputs": [
        {
          "output_type": "execute_result",
          "data": {
            "text/plain": [
              "{'name': 'Elon', 'like': 1, 'reported': False}"
            ]
          },
          "metadata": {},
          "execution_count": 106
        }
      ]
    },
    {
      "cell_type": "code",
      "source": [
        "user1 = {\n",
        "    \"name\" : \"Elon\",\n",
        "    \"like\" : 1, # 내 채널에서 좋아요를 누른 개수\n",
        "    \"reported\" : True #신고 당한 유저인가?\n",
        "}\n",
        "\n",
        "user2 = {\n",
        "    \"name\" : \"Steve\",\n",
        "    \"like\" : 5,\n",
        "    \"reported\" : False\n",
        "}\n",
        "\n",
        "user3 = {\n",
        "    \"name\" : \"Bil\",\n",
        "    \"like\" : 2,\n",
        "    \"reported\" : False\n",
        "}\n",
        "\n",
        "user4 = {\n",
        "    \"name\" : \"Sundar\",\n",
        "    \"like\" : 0,\n",
        "    \"reported\" : False\n",
        "}\n",
        "\n",
        "subscribers = [user1, user2, user3, user4]"
      ],
      "metadata": {
        "id": "noO7olJWz7Af"
      },
      "execution_count": null,
      "outputs": []
    },
    {
      "cell_type": "code",
      "source": [
        "#구독자 이름 출력하기\n",
        "for user in subscribers:\n",
        "  print(\"Subscriber Name: \", user[\"name\"])"
      ],
      "metadata": {
        "colab": {
          "base_uri": "https://localhost:8080/"
        },
        "id": "l3DGrQv50srJ",
        "outputId": "005c48ea-bbc6-488e-b397-bc611c7a1fe6"
      },
      "execution_count": null,
      "outputs": [
        {
          "output_type": "stream",
          "name": "stdout",
          "text": [
            "Subscriber Name:  Elon\n",
            "Subscriber Name:  Steve\n",
            "Subscriber Name:  Bil\n",
            "Subscriber Name:  Sundar\n"
          ]
        }
      ]
    },
    {
      "cell_type": "code",
      "source": [
        "#(조건) 신고 당한 유저는 출력하지 않는다\n",
        "for user in subscribers:\n",
        "\n",
        "  if user[\"reported\"]:\n",
        "    continue\n",
        "\n",
        "  print(\"Subsciber Name: \", user[\"name\"])"
      ],
      "metadata": {
        "colab": {
          "base_uri": "https://localhost:8080/"
        },
        "id": "zC2Qz00o1AKp",
        "outputId": "747508fc-501a-4294-c817-2e9503da254e"
      },
      "execution_count": null,
      "outputs": [
        {
          "output_type": "stream",
          "name": "stdout",
          "text": [
            "Subsciber Name:  Steve\n",
            "Subsciber Name:  Bil\n",
            "Subsciber Name:  Sundar\n"
          ]
        }
      ]
    },
    {
      "cell_type": "code",
      "source": [
        "# x에 반복적으로 1을 더하기\n",
        "x=0\n",
        "while x<5:\n",
        "  #x+=1\n",
        "  x+=1\n",
        "  print(\"x: \", x)"
      ],
      "metadata": {
        "colab": {
          "base_uri": "https://localhost:8080/"
        },
        "id": "FWB-5Ejo1bsI",
        "outputId": "a4126eb0-a7a7-48e7-f8e3-cee1c662f0c4"
      },
      "execution_count": null,
      "outputs": [
        {
          "output_type": "stream",
          "name": "stdout",
          "text": [
            "x:  1\n",
            "x:  2\n",
            "x:  3\n",
            "x:  4\n",
            "x:  5\n"
          ]
        }
      ]
    },
    {
      "cell_type": "code",
      "source": [
        "#무한 루프 + break\n",
        "x=0\n",
        "while True:\n",
        "  if x==5:\n",
        "    break\n",
        "  x+=1\n",
        "  print(\"x: \",x)"
      ],
      "metadata": {
        "colab": {
          "base_uri": "https://localhost:8080/"
        },
        "id": "29RF6ke81vAS",
        "outputId": "3c263017-fae7-4e29-a0a4-bc62c49e41b9"
      },
      "execution_count": null,
      "outputs": [
        {
          "output_type": "stream",
          "name": "stdout",
          "text": [
            "x:  1\n",
            "x:  2\n",
            "x:  3\n",
            "x:  4\n",
            "x:  5\n"
          ]
        }
      ]
    },
    {
      "cell_type": "code",
      "source": [
        "#[조건] 신고 당하지 않은 구독자 2명을 출력하기\n",
        "user_count=0 #출력한 구독자 수를 셈\n",
        "i=0 #subscribers 리스트의 인덱스\n",
        "\n",
        "while user_count<2:\n",
        "  if subscribers[i]['reported']==False:\n",
        "    print(\"Subscriber Count: \", user_count, \"Name: \",subscribers[i][\"name\"])\n",
        "    user_count+=1\n",
        "\n",
        "  i+=1"
      ],
      "metadata": {
        "colab": {
          "base_uri": "https://localhost:8080/"
        },
        "id": "6Kg7cONg2DSv",
        "outputId": "d0b42309-9ee5-4e6e-d4ac-0ec1a717abde"
      },
      "execution_count": null,
      "outputs": [
        {
          "output_type": "stream",
          "name": "stdout",
          "text": [
            "Subscriber Count:  0 Name:  Steve\n",
            "Subscriber Count:  1 Name:  Bil\n"
          ]
        }
      ]
    },
    {
      "cell_type": "code",
      "source": [
        "# 함수 명: briefing\n",
        "# Parameter: user_names\n",
        "# Arguement: liked_users\n",
        "\n",
        "def briefing(user_names):\n",
        "  \"\"\"\n",
        "  좋아요를 누른 유저 명 출력하기\n",
        "  - user_names [list]: 좋아요를 누른 유저 이름 리스트\n",
        "  \"\"\"\n",
        "  if len(user_names)>0:\n",
        "    for user in user_names:\n",
        "      print(user, \"hit like button!\")\n",
        "  else:\n",
        "    print(\"No one hit like button :()\")\n",
        "\n",
        "liked_users = [\"Elon\", \"Steve\"]\n",
        "briefing(liked_users)"
      ],
      "metadata": {
        "colab": {
          "base_uri": "https://localhost:8080/"
        },
        "id": "j7SJolNW3mLH",
        "outputId": "315f7e25-be3b-4c90-cf4d-e6f08167f0c9"
      },
      "execution_count": null,
      "outputs": [
        {
          "output_type": "stream",
          "name": "stdout",
          "text": [
            "Elon hit like button!\n",
            "Steve hit like button!\n"
          ]
        }
      ]
    },
    {
      "cell_type": "code",
      "source": [
        "def briefing(user_names=[]):\n",
        "  if len(user_names)>0:\n",
        "    for user in user_names:\n",
        "      print(user, \"hit like button!\")\n",
        "  else:\n",
        "    print(\"No one hit like button :()\")\n",
        "\n",
        "briefing()"
      ],
      "metadata": {
        "colab": {
          "base_uri": "https://localhost:8080/"
        },
        "id": "DQtNgLkuGlT-",
        "outputId": "8425f8b4-d9b6-4cb4-d995-c141aea745a9"
      },
      "execution_count": null,
      "outputs": [
        {
          "output_type": "stream",
          "name": "stdout",
          "text": [
            "No one hit like button :()\n"
          ]
        }
      ]
    },
    {
      "cell_type": "code",
      "source": [
        "def briefing(user_like_histories, user_names=[]):\n",
        "  \"\"\"\n",
        "  좋아요를 누른 유저 명 출력하고 유저 히스토리를 업데이트 하기\n",
        "  - user_like_histories [dict] : 유저 이름(key)과 좋아요 누른 총 개수(value) 디겨너리\n",
        "  - user_names [list] : 좋아요를 누른 유저 이름 리스트\n",
        "  \"\"\"\n",
        "  if len(user_names)>0:\n",
        "    for user in user_names:\n",
        "      print(user,\"hit like button!\")\n",
        "      user_like_histories[user]+=1\n",
        "      print(user,\"total likes: \", user_like_histories[user])\n",
        "  else:\n",
        "    print(\"No one hit like button :()\")\n",
        "  #유저가 내 동영상에 좋아요 누른 수를 기록\n",
        "user_like_histories = {\n",
        "      \"Elon\" : 1,\n",
        "      \"Steve\" : 5,\n",
        "      \"Bill\" : 2,\n",
        "      \"Sundar\" : 0\n",
        "}\n",
        "\n",
        "briefing(user_names = liked_users, user_like_histories = user_like_histories )"
      ],
      "metadata": {
        "colab": {
          "base_uri": "https://localhost:8080/"
        },
        "id": "7x0mRgg_H7Re",
        "outputId": "b34aa28f-d9f7-45d1-d354-230eba0ebb7f"
      },
      "execution_count": null,
      "outputs": [
        {
          "output_type": "stream",
          "name": "stdout",
          "text": [
            "Elon hit like button!\n",
            "Elon total likes:  2\n",
            "Steve hit like button!\n",
            "Steve total likes:  6\n"
          ]
        }
      ]
    },
    {
      "cell_type": "code",
      "source": [
        "def count_likes(user_names=[]):\n",
        "  return len(user_names)"
      ],
      "metadata": {
        "id": "XPumbnUbKl0V"
      },
      "execution_count": null,
      "outputs": []
    },
    {
      "cell_type": "code",
      "source": [
        "counts =count_likes(liked_users)"
      ],
      "metadata": {
        "id": "fQi_WHH_Klxe"
      },
      "execution_count": null,
      "outputs": []
    },
    {
      "cell_type": "code",
      "source": [
        "print(counts)"
      ],
      "metadata": {
        "colab": {
          "base_uri": "https://localhost:8080/"
        },
        "id": "6Y2Gny1vK8DB",
        "outputId": "1dfdefb1-8533-4225-bf25-d4ce88fb35a9"
      },
      "execution_count": null,
      "outputs": [
        {
          "output_type": "stream",
          "name": "stdout",
          "text": [
            "2\n"
          ]
        }
      ]
    },
    {
      "cell_type": "code",
      "source": [
        "counts"
      ],
      "metadata": {
        "colab": {
          "base_uri": "https://localhost:8080/"
        },
        "id": "lDrSgWlRK-nR",
        "outputId": "788124f5-9d58-4ec9-97a9-f30ad50d5a09"
      },
      "execution_count": null,
      "outputs": [
        {
          "output_type": "execute_result",
          "data": {
            "text/plain": [
              "2"
            ]
          },
          "metadata": {},
          "execution_count": 139
        }
      ]
    },
    {
      "cell_type": "code",
      "source": [
        "class Dog:\n",
        "\n",
        "  def sniff(self,sound:str):\n",
        "    print(sound*5)"
      ],
      "metadata": {
        "id": "dDhoLFHkK_j3"
      },
      "execution_count": null,
      "outputs": []
    },
    {
      "cell_type": "code",
      "source": [
        "#Dog 클래스의 인스턴스 생성\n",
        "maltese=Dog()"
      ],
      "metadata": {
        "id": "SWKLZ-uzNA8Z"
      },
      "execution_count": null,
      "outputs": []
    },
    {
      "cell_type": "code",
      "source": [
        "#\".\"로 method 실행 가능\n",
        "maltese.sniff(sound=\"킁\")"
      ],
      "metadata": {
        "colab": {
          "base_uri": "https://localhost:8080/"
        },
        "id": "OwSdiXvZNJIr",
        "outputId": "94ea14a9-1ae8-4901-f249-1621720e628f"
      },
      "execution_count": null,
      "outputs": [
        {
          "output_type": "stream",
          "name": "stdout",
          "text": [
            "킁킁킁킁킁\n"
          ]
        }
      ]
    },
    {
      "cell_type": "code",
      "source": [
        "class Dog:\n",
        "\n",
        "  def __init__(self, name:str):\n",
        "    self.name=name\n",
        "\n",
        "  def sniff(self,sound:str):\n",
        "    print(f\"{self.name}가 이렇게 냄새를 맡는다: {sound*5}\")"
      ],
      "metadata": {
        "id": "54DBz0y7NVpZ"
      },
      "execution_count": null,
      "outputs": []
    },
    {
      "cell_type": "code",
      "source": [
        "#Dog 클래스의 인스턴스 생성\n",
        "beagle = Dog(name=\"초코\")\n",
        "maltese = Dog(name=\"대왕\")"
      ],
      "metadata": {
        "id": "KfSqs1gPROWB"
      },
      "execution_count": null,
      "outputs": []
    },
    {
      "cell_type": "code",
      "source": [
        "#\".\"로 attribute 접근 가능\n",
        "print(beagle.name)\n",
        "print(maltese.name)"
      ],
      "metadata": {
        "colab": {
          "base_uri": "https://localhost:8080/"
        },
        "id": "FT_8KbBXRcPH",
        "outputId": "39d82612-0c8f-49e7-9592-39ea13e3c26c"
      },
      "execution_count": null,
      "outputs": [
        {
          "output_type": "stream",
          "name": "stdout",
          "text": [
            "초코\n",
            "대왕\n"
          ]
        }
      ]
    },
    {
      "cell_type": "code",
      "source": [
        "#\".\"로 method 접근 가능\n",
        "beagle.sniff(\"컹\")\n",
        "maltese.sniff(\"왕\")"
      ],
      "metadata": {
        "colab": {
          "base_uri": "https://localhost:8080/"
        },
        "id": "AbYV4MbKRnTv",
        "outputId": "690b8cd4-89df-4abe-a411-6163aae2a198"
      },
      "execution_count": null,
      "outputs": [
        {
          "output_type": "stream",
          "name": "stdout",
          "text": [
            "초코가 이렇게 냄새를 맡는다: 컹컹컹컹컹\n",
            "대왕가 이렇게 냄새를 맡는다: 왕왕왕왕왕\n"
          ]
        }
      ]
    },
    {
      "cell_type": "code",
      "source": [
        "breed2color ={\n",
        "    \"Poodle\" : \"black\",\n",
        "    \"Maltese\" : \"white\"\n",
        "}\n",
        "class Dog:\n",
        "\n",
        "  def __init__(self, breed:str, name:str, weight:float):\n",
        "    self.breed = breed\n",
        "    self.color = breed2color[self.breed]\n",
        "    self.weight = weight\n",
        "    self.size = self.calculate_size(self.weight)\n",
        "\n",
        "  def calculate_size(self, weight:float):\n",
        "    if weight >= 4.0:\n",
        "      size = \"large\"\n",
        "    else:\n",
        "      size = \"small\"\n",
        "    return size\n",
        "\n",
        "  def eat(self):\n",
        "    amount = self.weight*10\n",
        "    print(f\"{self.name}는 하루에 {amount}g의 사료를 먹습니다.\")\n",
        "\n",
        "  def sniff(self, mood:str):\n",
        "    if mood ==\"기쁨\":\n",
        "      sound = \"킁\"\n",
        "    elif mood == \"슬픔\":\n",
        "      sound = \"낑\"\n",
        "    else:\n",
        "      print(f\"Plase choose either '기쁨' or '슬픔'. Typed {mood}\")\n",
        "      return #여기서 메소드가 실행이 종료\n",
        "\n",
        "    print(f\"{self.name}가 {sound*3}하고 냄새를 맡습니다.\")\n",
        "\n",
        "  def change_name(self, new_name:str):\n",
        "    self.name = new_name\n",
        "    return self.name"
      ],
      "metadata": {
        "id": "umKdZO5GTw4M"
      },
      "execution_count": null,
      "outputs": []
    },
    {
      "cell_type": "code",
      "source": [
        "class Maltese(Dog) :\n",
        "\n",
        "  def __init__(self, name:str, weight:float):\n",
        "    self.name = name\n",
        "    self.weight = weight"
      ],
      "metadata": {
        "id": "KhsLr-iER2kR"
      },
      "execution_count": null,
      "outputs": []
    },
    {
      "cell_type": "code",
      "source": [
        "mydog = Maltese(\"대왕\",3.4)"
      ],
      "metadata": {
        "id": "uZx9dQqzSFcZ"
      },
      "execution_count": null,
      "outputs": []
    },
    {
      "cell_type": "code",
      "source": [
        "mydog.eat()"
      ],
      "metadata": {
        "colab": {
          "base_uri": "https://localhost:8080/"
        },
        "id": "ZtXtxg-VTBUm",
        "outputId": "922e8a2a-a585-4e05-801b-3cc6b44ca07e"
      },
      "execution_count": null,
      "outputs": [
        {
          "output_type": "stream",
          "name": "stdout",
          "text": [
            "대왕는 하루에 34.0g의 사료를 먹습니다.\n"
          ]
        }
      ]
    },
    {
      "cell_type": "code",
      "source": [
        "mydog.sniff(\"기쁨\")"
      ],
      "metadata": {
        "colab": {
          "base_uri": "https://localhost:8080/"
        },
        "id": "DoIcRp2FWGcN",
        "outputId": "2f054bb8-eadd-4f15-f1ff-8113ed1daebb"
      },
      "execution_count": null,
      "outputs": [
        {
          "output_type": "stream",
          "name": "stdout",
          "text": [
            "대왕가 킁킁킁하고 냄새를 맡습니다.\n"
          ]
        }
      ]
    },
    {
      "cell_type": "code",
      "source": [
        "class Maltese(Dog):\n",
        "\n",
        "  def __init__(self, name:str, weight:float):\n",
        "    self.name = name\n",
        "    self.weight = weight\n",
        "\n",
        "    super().__init__(\"Maltese\",self.name, self.weight)"
      ],
      "metadata": {
        "id": "ZJl1-v1XWLfM"
      },
      "execution_count": null,
      "outputs": []
    },
    {
      "cell_type": "code",
      "source": [
        "mydog = Maltese(\"대왕\", 3.4)"
      ],
      "metadata": {
        "id": "kLGupGV1WnBa"
      },
      "execution_count": null,
      "outputs": []
    },
    {
      "cell_type": "code",
      "source": [
        "mydog.color"
      ],
      "metadata": {
        "colab": {
          "base_uri": "https://localhost:8080/",
          "height": 36
        },
        "id": "YcKXGfYbXh6s",
        "outputId": "1c343e45-7513-436e-f48d-734ea58a2540"
      },
      "execution_count": null,
      "outputs": [
        {
          "output_type": "execute_result",
          "data": {
            "text/plain": [
              "'white'"
            ],
            "application/vnd.google.colaboratory.intrinsic+json": {
              "type": "string"
            }
          },
          "metadata": {},
          "execution_count": 198
        }
      ]
    },
    {
      "cell_type": "code",
      "source": [
        "mydog.size"
      ],
      "metadata": {
        "colab": {
          "base_uri": "https://localhost:8080/",
          "height": 36
        },
        "id": "AUtCo2SkXyz9",
        "outputId": "91c650cd-3e2c-4a82-bd43-8d677849a534"
      },
      "execution_count": null,
      "outputs": [
        {
          "output_type": "execute_result",
          "data": {
            "text/plain": [
              "'small'"
            ],
            "application/vnd.google.colaboratory.intrinsic+json": {
              "type": "string"
            }
          },
          "metadata": {},
          "execution_count": 199
        }
      ]
    }
  ]
}